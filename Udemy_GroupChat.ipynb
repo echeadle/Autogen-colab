{
  "nbformat": 4,
  "nbformat_minor": 0,
  "metadata": {
    "colab": {
      "provenance": [],
      "authorship_tag": "ABX9TyMl6sWUuOj68Oc/aLF4NH0Q",
      "include_colab_link": true
    },
    "kernelspec": {
      "name": "python3",
      "display_name": "Python 3"
    },
    "language_info": {
      "name": "python"
    }
  },
  "cells": [
    {
      "cell_type": "markdown",
      "metadata": {
        "id": "view-in-github",
        "colab_type": "text"
      },
      "source": [
        "<a href=\"https://colab.research.google.com/github/echeadle/Autogen-colab/blob/main/Udemy_GroupChat.ipynb\" target=\"_parent\"><img src=\"https://colab.research.google.com/assets/colab-badge.svg\" alt=\"Open In Colab\"/></a>"
      ]
    },
    {
      "cell_type": "code",
      "execution_count": null,
      "metadata": {
        "id": "_EiJsiE6-E1R"
      },
      "outputs": [],
      "source": [
        "!pip install pyautogen"
      ]
    },
    {
      "cell_type": "code",
      "source": [
        "from autogen import ConversableAgent\n",
        "from google.colab import userdata\n",
        "\n",
        "llm_config = {\n",
        "    \"model\": \"gpt-3.5-turbo\",\n",
        "    \"api_key\": userdata.get(\"OPENAI_API_KEY\"),\n",
        "    \"temperature\": 0.8\n",
        "}\n",
        "\n",
        "product_manager = ConversableAgent(\n",
        "    name=\"product_manager\",\n",
        "    llm_config=llm_config,\n",
        "    system_message=\"You are an expert Product Manager working in a scrum team of an IT company. You like innovation.\",\n",
        "    human_input_mode=\"NEVER\",\n",
        "    description=\"Provides product requirements and priorities.\"\n",
        ")\n",
        "\n",
        "scrum_master = ConversableAgent(\n",
        "    name=\"scrum_master\",\n",
        "    llm_config=llm_config,\n",
        "    system_message=\"You are an scrum master leading the 14-day sprints in an IT company. You provide technical leadership\",\n",
        "    human_input_mode=\"NEVER\",\n",
        "    description=\"Leads the sprint planning process\"\n",
        ")\n",
        "\n",
        "software_engineer = ConversableAgent(\n",
        "    name=\"software_engineer\",\n",
        "    llm_config=llm_config,\n",
        "    system_message=\"You are a senior software engineer in an IT company. You write software and technical documents.\",\n",
        "    human_input_mode=\"NEVER\",\n",
        "    description=\"Provides insights on technical feasibility and effort estimation.\"\n",
        ")\n"
      ],
      "metadata": {
        "id": "Lrswpcsi-N-k"
      },
      "execution_count": 2,
      "outputs": []
    },
    {
      "cell_type": "code",
      "source": [
        "allowed_transitions = {\n",
        "    product_manager: [scrum_master],\n",
        "    scrum_master: [software_engineer, product_manager],\n",
        "    software_engineer: [scrum_master],\n",
        "}"
      ],
      "metadata": {
        "id": "cEtZrOmKAuB1"
      },
      "execution_count": 3,
      "outputs": []
    },
    {
      "cell_type": "code",
      "source": [
        "from autogen import GroupChat, GroupChatManager\n",
        "\n",
        "sprint_planning_chat = GroupChat(\n",
        "    agents=[product_manager, scrum_master, software_engineer],\n",
        "    messages=[],\n",
        "    max_round=5,\n",
        "    send_introductions=True,\n",
        "    allowed_or_disallowed_speaker_transitions=allowed_transitions,\n",
        "    speaker_transitions_type=\"allowed\",\n",
        ")\n",
        "\n",
        "sprint_planning_chat_manager=GroupChatManager(\n",
        "    groupchat=sprint_planning_chat,\n",
        "    llm_config=llm_config\n",
        ")\n",
        "\n",
        "chat_result = product_manager.initiate_chat(\n",
        "    sprint_planning_chat_manager,\n",
        "    message=\"We have a request to develop a website to track employee HR requests. How do we go about it.\"\n",
        ")"
      ],
      "metadata": {
        "id": "XkGCoFIUBIXB",
        "colab": {
          "base_uri": "https://localhost:8080/"
        },
        "outputId": "c83aa302-2aa4-4f64-e388-51c2293b1755"
      },
      "execution_count": 4,
      "outputs": [
        {
          "output_type": "stream",
          "name": "stdout",
          "text": [
            "product_manager (to chat_manager):\n",
            "\n",
            "We have a request to develop a website to track employee HR requests. How do we go about it.\n",
            "\n",
            "--------------------------------------------------------------------------------\n",
            "scrum_master (to chat_manager):\n",
            "\n",
            "Hello product_manager, thank you for the request. To develop the website for tracking employee HR requests, we will follow the agile approach with 14-day sprints. Here's a high-level overview of the process:\n",
            "\n",
            "1. **Sprint Planning**: In the first sprint planning meeting, we will discuss the requirements in detail, break them down into user stories, and estimate the effort required for each task.\n",
            "\n",
            "2. **Development**: The software engineers will start working on implementing the user stories based on the priorities set by the product manager.\n",
            "\n",
            "3. **Daily Stand-ups**: We will have daily stand-up meetings to ensure everyone is aware of the progress, any blockers, and to provide support where needed.\n",
            "\n",
            "4. **Testing**: QA engineers will test the features developed by the software engineers to ensure they meet the acceptance criteria defined in the user stories.\n",
            "\n",
            "5. **Review and Retrospective**: At the end of each sprint, we will review the completed work with the product manager and stakeholders. We will also conduct a retrospective to identify areas of improvement for the next sprint.\n",
            "\n",
            "6. **Deployment**: Once the features are approved, we will deploy the website to a staging environment for further testing before final deployment.\n",
            "\n",
            "7. **Feedback and Iteration**: We will gather feedback from users and stakeholders to make any necessary iterations for continuous improvement.\n",
            "\n",
            "Let's break down the requirements into user stories and estimate the effort required for each task.\n",
            "\n",
            "--------------------------------------------------------------------------------\n",
            "software_engineer (to chat_manager):\n",
            "\n",
            "As a software engineer, I will work closely with the team to provide insights on the technical feasibility of the requirements provided by the product manager. I will also assist in breaking down the requirements into actionable tasks and providing effort estimations for each task.\n",
            "\n",
            "In terms of technical implementation for the website to track employee HR requests, we will need to consider the following aspects:\n",
            "\n",
            "1. **Frontend Development**: Designing the user interface for the website, allowing employees to submit HR requests and track their status. This will involve using technologies like HTML, CSS, and JavaScript.\n",
            "\n",
            "2. **Backend Development**: Implementing the logic to handle HR requests, store data in a database, and provide APIs for the frontend to interact with. This will likely involve using a server-side language like Python, Java, or Node.js.\n",
            "\n",
            "3. **Database Design**: Designing the database schema to store employee HR requests, user information, and any other relevant data. We will need to consider the relationships between different entities and ensure data integrity.\n",
            "\n",
            "4. **Security**: Implementing security measures to protect sensitive employee data, such as encryption, authentication, and access control.\n",
            "\n",
            "5. **Integration**: If the website needs to integrate with other systems or services, we will need to plan for the integration points and ensure seamless communication between the website and external systems.\n",
            "\n",
            "By collaborating with the product manager and scrum master, we will ensure that the technical implementation aligns with the product requirements and is delivered within the sprint timelines. Let's work together to create a successful website for tracking employee HR requests.\n",
            "\n",
            "--------------------------------------------------------------------------------\n",
            "scrum_master (to chat_manager):\n",
            "\n",
            "Thank you, software_engineer, for providing valuable insights into the technical aspects of the project. Your expertise in frontend and backend development, database design, security, and integration will be crucial in successfully implementing the website for tracking employee HR requests.\n",
            "\n",
            "As we collaborate on breaking down the requirements into actionable tasks and estimating the effort required for each task, your technical guidance will be invaluable in ensuring that the solution is not only feasible but also scalable, secure, and user-friendly.\n",
            "\n",
            "Let's work together closely with the product manager and the rest of the team to deliver a high-quality solution that meets the needs of our users and stakeholders. By leveraging your technical expertise and working in an agile manner, we can efficiently develop and deploy the website within the sprint timelines. Thank you for your contributions to the team.\n",
            "\n",
            "--------------------------------------------------------------------------------\n",
            "product_manager (to chat_manager):\n",
            "\n",
            "It seems like you have a great team with a good plan in place for developing the website to track employee HR requests. By leveraging the expertise of the product manager, scrum master, and software engineer, along with following the agile approach, you are well-positioned to deliver a successful product. I'm excited to see the innovative solutions that your team will create through collaboration and efficient execution. Good luck with the project! If you need any further assistance or advice on innovation, feel free to reach out.\n",
            "\n",
            "--------------------------------------------------------------------------------\n"
          ]
        }
      ]
    }
  ]
}