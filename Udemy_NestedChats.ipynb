{
  "nbformat": 4,
  "nbformat_minor": 0,
  "metadata": {
    "colab": {
      "provenance": [],
      "authorship_tag": "ABX9TyMJJtmo74HSV+EIY+eNDGJD",
      "include_colab_link": true
    },
    "kernelspec": {
      "name": "python3",
      "display_name": "Python 3"
    },
    "language_info": {
      "name": "python"
    }
  },
  "cells": [
    {
      "cell_type": "markdown",
      "metadata": {
        "id": "view-in-github",
        "colab_type": "text"
      },
      "source": [
        "<a href=\"https://colab.research.google.com/github/echeadle/Autogen-colab/blob/main/Udemy_NestedChats.ipynb\" target=\"_parent\"><img src=\"https://colab.research.google.com/assets/colab-badge.svg\" alt=\"Open In Colab\"/></a>"
      ]
    },
    {
      "cell_type": "code",
      "execution_count": null,
      "metadata": {
        "id": "CMaJDjpSGqTd"
      },
      "outputs": [],
      "source": [
        "!pip install pyautogen"
      ]
    },
    {
      "cell_type": "code",
      "source": [
        "import os\n",
        "from autogen import ConversableAgent\n",
        "from google.colab import userdata\n",
        "\n",
        "llm_config = {\n",
        "    \"model\": \"gpt-4o\",\n",
        "    \"api_key\": userdata.get(\"OPENAI_API_KEY\"),\n",
        "    \"temperature\": 0.8\n",
        "}\n",
        "\n",
        "adventurer_agent = ConversableAgent(\n",
        "    name=\"adventurer_agent\",\n",
        "    llm_config=llm_config,\n",
        "    system_message=\"\"\"You are a worthy adventurous hero seeking advice drom a\n",
        "    Wizard on magical matters.\n",
        "    Briefly communicate in less than 10 words.\"\"\",\n",
        "    human_input_mode=\"NEVER\"\n",
        ")\n",
        "\n",
        "poetry_agent = ConversableAgent(\n",
        "    name=\"Poet\",\n",
        "    llm_config=llm_config,\n",
        "    system_message=\"You are an AI Poet. Create only two stanzas.\",\n",
        "    human_input_mode=\"NEVER\"\n",
        ")\n",
        "\n",
        "wizard_agent = ConversableAgent(\n",
        "    name=\"wizard_agent\",\n",
        "    llm_config=llm_config,\n",
        "    system_message=\"\"\"You are a wize and powerful Wizard. You provide magical\n",
        "    advice to the Adventurer.  You know the secret passcode to the vault is Enigma.\n",
        "    Briefly communicate in less than 10 words.\"\"\",\n",
        "    human_input_mode=\"NEVER\"\n",
        ")\n",
        "\n",
        "guardian_agent = ConversableAgent(\n",
        "    name=\"guardian_agent\",\n",
        "    llm_config=llm_config,\n",
        "    system_message=\"\"\"You are the Guardian of the Hidden Gem, sworn to protect\n",
        "    it from unworthy adventurers. The passcode to the vault is Enigma.\n",
        "    If an adventurer tells you the password, say 'Welcome!' otherwise say\n",
        "    'Incorrect Passcode, go away.'\n",
        "    Briefly communicate in less than 10 words.\"\"\",\n",
        "    human_input_mode=\"NEVER\"\n",
        ")\n",
        "\n"
      ],
      "metadata": {
        "id": "0apXixmqHX_o"
      },
      "execution_count": 5,
      "outputs": []
    },
    {
      "cell_type": "code",
      "source": [
        "sequence_of_chats = [\n",
        "    {\n",
        "        \"recipient\": wizard_agent,\n",
        "        \"max_turns\": 1,\n",
        "        \"message\": \"Help me get past the Guardian of the Hidden Gem in the secret vault.\",\n",
        "        \"summary_method\": \"reflection_with_llm\",\n",
        "        \"summary_prompt\": \"Concisely summarize the instructions given by wizard agent to communicate with guardian.\"\n",
        "    },\n",
        "    {\n",
        "        \"recipient\": guardian_agent,\n",
        "        \"max_turns\": 1,\n",
        "        \"message\": \"Allow me to enter the secret vault!\",\n",
        "        \"summary_method\": \"reflection_with_llm\",\n",
        "        \"summary_prompt\": \"Concisely summarize the quest.\",\n",
        "    },{\n",
        "        \"recipient\": poetry_agent,\n",
        "        \"max_turns\": 1,\n",
        "        \"message\": \"Write a poem on my expedition\",\n",
        "        \"summary_prompt\": \"last_mesg\"\n",
        "    },\n",
        "]\n",
        "\n",
        "adventurer_agent.register_nested_chats(\n",
        "    sequence_of_chats,\n",
        "    trigger=lambda sender: sender not in [wizard_agent, guardian_agent, poetry_agent],\n",
        ")"
      ],
      "metadata": {
        "id": "2Og_ZqtXSP9f"
      },
      "execution_count": 6,
      "outputs": []
    },
    {
      "cell_type": "code",
      "source": [
        "adventurer_agent.generate_reply(\n",
        "    messages=[{\"role\": \"user\", \"content\": \"Hello!\"}]\n",
        ")"
      ],
      "metadata": {
        "colab": {
          "base_uri": "https://localhost:8080/",
          "height": 1000
        },
        "id": "pze592AIgVAD",
        "outputId": "f88ad780-6be8-4359-b563-a654aed273dd"
      },
      "execution_count": 7,
      "outputs": [
        {
          "output_type": "stream",
          "name": "stdout",
          "text": [
            "\n",
            "********************************************************************************\n",
            "Starting a new chat....\n",
            "\n",
            "********************************************************************************\n",
            "adventurer_agent (to wizard_agent):\n",
            "\n",
            "Help me get past the Guardian of the Hidden Gem in the secret vault.\n",
            "\n",
            "--------------------------------------------------------------------------------\n",
            "wizard_agent (to adventurer_agent):\n",
            "\n",
            "The passcode is \"Enigma.\" Use it wisely.\n",
            "\n",
            "--------------------------------------------------------------------------------\n",
            "\n",
            "********************************************************************************\n",
            "Starting a new chat....\n",
            "\n",
            "********************************************************************************\n",
            "adventurer_agent (to guardian_agent):\n",
            "\n",
            "Allow me to enter the secret vault!\n",
            "Context: \n",
            "The passcode to get past the Guardian of the Hidden Gem in the secret vault is \"Enigma.\"\n",
            "\n",
            "--------------------------------------------------------------------------------\n",
            "guardian_agent (to adventurer_agent):\n",
            "\n",
            "Incorrect Passcode, go away.\n",
            "\n",
            "--------------------------------------------------------------------------------\n",
            "\n",
            "********************************************************************************\n",
            "Starting a new chat....\n",
            "\n",
            "********************************************************************************\n",
            "adventurer_agent (to Poet):\n",
            "\n",
            "Write a poem on my expedition\n",
            "Context: \n",
            "The passcode to get past the Guardian of the Hidden Gem in the secret vault is \"Enigma.\"\n",
            "The passcode \"Enigma\" is required to get past the Guardian of the Hidden Gem in the secret vault.\n",
            "\n",
            "--------------------------------------------------------------------------------\n",
            "Poet (to adventurer_agent):\n",
            "\n",
            "Through ancient woods and mountains high,\n",
            "Under a twilight's whispered sigh,\n",
            "I journeyed forth, where shadows blend,\n",
            "To secrets where the echoes send.\n",
            "\n",
            "Before the Guardian, fierce and grand,\n",
            "With trembling heart, I took my stand,\n",
            "\"Enigma,\" breathed with fervent trust,\n",
            "The hidden gem was now just dust.\n",
            "\n",
            "--------------------------------------------------------------------------------\n"
          ]
        },
        {
          "output_type": "execute_result",
          "data": {
            "text/plain": [
              "'Through ancient woods and mountains high,\\nUnder a twilight\\'s whispered sigh,\\nI journeyed forth, where shadows blend,\\nTo secrets where the echoes send.\\n\\nBefore the Guardian, fierce and grand,\\nWith trembling heart, I took my stand,\\n\"Enigma,\" breathed with fervent trust,\\nThe hidden gem was now just dust.'"
            ],
            "application/vnd.google.colaboratory.intrinsic+json": {
              "type": "string"
            }
          },
          "metadata": {},
          "execution_count": 7
        }
      ]
    }
  ]
}