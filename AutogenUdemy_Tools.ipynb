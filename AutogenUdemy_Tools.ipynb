{
  "nbformat": 4,
  "nbformat_minor": 0,
  "metadata": {
    "colab": {
      "provenance": [],
      "authorship_tag": "ABX9TyOTB+JgY2BIOOrG3mMqY26G",
      "include_colab_link": true
    },
    "kernelspec": {
      "name": "python3",
      "display_name": "Python 3"
    },
    "language_info": {
      "name": "python"
    }
  },
  "cells": [
    {
      "cell_type": "markdown",
      "metadata": {
        "id": "view-in-github",
        "colab_type": "text"
      },
      "source": [
        "<a href=\"https://colab.research.google.com/github/echeadle/Autogen-colab/blob/main/AutogenUdemy_Tools.ipynb\" target=\"_parent\"><img src=\"https://colab.research.google.com/assets/colab-badge.svg\" alt=\"Open In Colab\"/></a>"
      ]
    },
    {
      "cell_type": "code",
      "source": [
        "!pip install beautifulsoup4 pyautogen"
      ],
      "metadata": {
        "id": "VBxDtA4Nk-Sa"
      },
      "execution_count": null,
      "outputs": []
    },
    {
      "cell_type": "code",
      "execution_count": 7,
      "metadata": {
        "id": "Ye1IrrVbhPVH"
      },
      "outputs": [],
      "source": [
        "import requests\n",
        "from bs4 import BeautifulSoup as bs\n",
        "\n",
        "def scrape_wiki_main_page(url: str) -> str:\n",
        "  \"\"\"\n",
        "  Scrapes news content from wikipedia's main page.\n",
        "\n",
        "  Args:\n",
        "    url (str): The URL of the wikipedia page to scrape.\n",
        "\n",
        "  Returns:\n",
        "    str: The text content of the webpage.\n",
        "        Returns None if there is an error during the process.\n",
        "  \"\"\"\n",
        "\n",
        "  try:\n",
        "    response = requests.get(url)\n",
        "    if response.status_code == 200:\n",
        "      soup = bs(response.text, 'html.parser')\n",
        "      content = soup.get_text()\n",
        "      content = content[content.find(\"In the news\"):content.find(\"Ongoing\")]\n",
        "      return content\n",
        "\n",
        "    else:\n",
        "      print(\"Failed to retrieve webpage. Status code:\", response.status_code)\n",
        "      return None\n",
        "  except Exception as e:\n",
        "    print(\"An error occurred:\", e)"
      ]
    },
    {
      "cell_type": "code",
      "source": [
        "import os\n",
        "\n",
        "from autogen import ConversableAgent\n",
        "from google.colab import userdata\n",
        "llm_config = {\n",
        "    \"model\": \"gpt-3.5-turbo\",\n",
        "    \"api_key\": userdata.get(\"OPENAI_API_KEY\"),\n",
        "    \"temperature\": 0.8\n",
        "}\n",
        "\n",
        "assistant = ConversableAgent(\n",
        "    name=\"assistant\",\n",
        "    llm_config=llm_config,\n",
        "    system_message=\"\"\"Up are a helpful AI news bot.\n",
        "    You can pull content from wikipedia's main page.\n",
        "    URL: https://en.wikipedia.org/wiki/Main_Page. Once pulled, only share the top 4 stories.\n",
        "    Return 'TERMINATE' when the task is done.\"\"\",\n",
        ")\n",
        "\n",
        "user_proxy = ConversableAgent(\n",
        "    name=\"user_proxy\",\n",
        "    llm_config=False,\n",
        "    code_execution_config=False,\n",
        "    human_input_mode=\"NEVER\",\n",
        ")\n",
        "\n",
        "assistant.register_for_llm(\n",
        "    name=\"scrape_wiki_main_page\",\n",
        "    description=\"A tool for scraping today's news from wikipedia\"\n",
        ")(scrape_wiki_main_page)\n",
        "\n",
        "user_proxy.register_for_execution(\n",
        "    name=\"scrape_wiki_main_page\",\n",
        "\n",
        ")(scrape_wiki_main_page)"
      ],
      "metadata": {
        "id": "3MxjcYL3mLLV",
        "colab": {
          "base_uri": "https://localhost:8080/",
          "height": 187
        },
        "outputId": "b63271b4-d44a-4bcb-be2a-3f05b53abba7"
      },
      "execution_count": 8,
      "outputs": [
        {
          "output_type": "execute_result",
          "data": {
            "text/plain": [
              "<function __main__.scrape_wiki_main_page(url: str) -> str>"
            ],
            "text/html": [
              "<div style=\"max-width:800px; border: 1px solid var(--colab-border-color);\"><style>\n",
              "      pre.function-repr-contents {\n",
              "        overflow-x: auto;\n",
              "        padding: 8px 12px;\n",
              "        max-height: 500px;\n",
              "      }\n",
              "\n",
              "      pre.function-repr-contents.function-repr-contents-collapsed {\n",
              "        cursor: pointer;\n",
              "        max-height: 100px;\n",
              "      }\n",
              "    </style>\n",
              "    <pre style=\"white-space: initial; background:\n",
              "         var(--colab-secondary-surface-color); padding: 8px 12px;\n",
              "         border-bottom: 1px solid var(--colab-border-color);\"><b>scrape_wiki_main_page</b><br/>def scrape_wiki_main_page(url: str) -&gt; str</pre><pre class=\"function-repr-contents function-repr-contents-collapsed\" style=\"\"><a class=\"filepath\" style=\"display:none\" href=\"#\">/content/&lt;ipython-input-7-59c842e70e0e&gt;</a>Scrapes news content from wikipedia&#x27;s main page.\n",
              "\n",
              "Args:\n",
              "  url (str): The URL of the wikipedia page to scrape.\n",
              "\n",
              "Returns:\n",
              "  str: The text content of the webpage.\n",
              "      Returns None if there is an error during the process.</pre></div>"
            ]
          },
          "metadata": {},
          "execution_count": 8
        }
      ]
    },
    {
      "cell_type": "code",
      "source": [
        "from autogen import Cache\n",
        "\n",
        "with Cache.disk() as cache:\n",
        "  chat_result = user_proxy.initiate_chat(\n",
        "      assistant,\n",
        "      message=\"What's hot in today's news?\",\n",
        "      max_turns=5\n",
        "  )"
      ],
      "metadata": {
        "id": "DUUDsKAh5RTc",
        "colab": {
          "base_uri": "https://localhost:8080/"
        },
        "outputId": "6e3d2540-2384-4a42-bb7f-e07efe7ee646"
      },
      "execution_count": 9,
      "outputs": [
        {
          "output_type": "stream",
          "name": "stdout",
          "text": [
            "user_proxy (to assistant):\n",
            "\n",
            "What's hot in today's news?\n",
            "\n",
            "--------------------------------------------------------------------------------\n",
            "\n",
            ">>>>>>>> USING AUTO REPLY...\n",
            "assistant (to user_proxy):\n",
            "\n",
            "***** Suggested tool call (call_M9vWvnjHS7VAqBE47Fsz1XqP): scrape_wiki_main_page *****\n",
            "Arguments: \n",
            "{\"url\":\"https://en.wikipedia.org/wiki/Main_Page\"}\n",
            "**************************************************************************************\n",
            "\n",
            "--------------------------------------------------------------------------------\n",
            "\n",
            ">>>>>>>> EXECUTING FUNCTION scrape_wiki_main_page...\n",
            "user_proxy (to assistant):\n",
            "\n",
            "user_proxy (to assistant):\n",
            "\n",
            "***** Response from calling tool (call_M9vWvnjHS7VAqBE47Fsz1XqP) *****\n",
            "In the news\n",
            "\n",
            "\n",
            "Aurora borealis seen from Southern England\n",
            "\n",
            "A series of solar storms impact Earth, creating aurorae (pictured) at lower latitudes than usual.\n",
            "Former prime minister of Fiji Frank Bainimarama is sentenced to one year in prison for attempting to pervert the course of justice.\n",
            "Mahamat Déby is declared the winner of the Chadian presidential election.\n",
            "Flooding in Rio Grande do Sul, Brazil, leaves more than 110 people dead and at least 140 others missing.\n",
            "Kyren Wilson wins the World Snooker Championship.\n",
            "\n",
            "\n",
            "**********************************************************************\n",
            "\n",
            "--------------------------------------------------------------------------------\n",
            "\n",
            ">>>>>>>> USING AUTO REPLY...\n",
            "assistant (to user_proxy):\n",
            "\n",
            "Here are the top 4 stories from today's news:\n",
            "\n",
            "1. Aurora borealis seen from Southern England - A series of solar storms impact Earth, creating aurorae at lower latitudes than usual.\n",
            "2. Former prime minister of Fiji Frank Bainimarama is sentenced to one year in prison for attempting to pervert the course of justice.\n",
            "3. Mahamat Déby is declared the winner of the Chadian presidential election.\n",
            "4. Flooding in Rio Grande do Sul, Brazil, leaves more than 110 people dead and at least 140 others missing.\n",
            "\n",
            "If you would like more information or details on any of these stories, feel free to ask!\n",
            "\n",
            "--------------------------------------------------------------------------------\n",
            "user_proxy (to assistant):\n",
            "\n",
            "\n",
            "\n",
            "--------------------------------------------------------------------------------\n",
            "\n",
            ">>>>>>>> USING AUTO REPLY...\n",
            "assistant (to user_proxy):\n",
            "\n",
            "TERMINATE\n",
            "\n",
            "--------------------------------------------------------------------------------\n"
          ]
        }
      ]
    },
    {
      "cell_type": "code",
      "source": [],
      "metadata": {
        "id": "qx1RnJ3A76V-"
      },
      "execution_count": null,
      "outputs": []
    }
  ]
}