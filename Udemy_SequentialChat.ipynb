{
  "nbformat": 4,
  "nbformat_minor": 0,
  "metadata": {
    "colab": {
      "provenance": [],
      "authorship_tag": "ABX9TyPKTjxRwB50hwFd9AdUME55",
      "include_colab_link": true
    },
    "kernelspec": {
      "name": "python3",
      "display_name": "Python 3"
    },
    "language_info": {
      "name": "python"
    }
  },
  "cells": [
    {
      "cell_type": "markdown",
      "metadata": {
        "id": "view-in-github",
        "colab_type": "text"
      },
      "source": [
        "<a href=\"https://colab.research.google.com/github/echeadle/Autogen-colab/blob/main/Udemy_SequentialChat.ipynb\" target=\"_parent\"><img src=\"https://colab.research.google.com/assets/colab-badge.svg\" alt=\"Open In Colab\"/></a>"
      ]
    },
    {
      "cell_type": "code",
      "execution_count": null,
      "metadata": {
        "id": "RCnihKaa70wG"
      },
      "outputs": [],
      "source": [
        "!pip install beautifulsoup4 pyautogen"
      ]
    },
    {
      "cell_type": "code",
      "source": [
        "import os\n",
        "from autogen import ConversableAgent\n",
        "from google.colab import userdata\n",
        "\n",
        "llm_config = {\n",
        "    \"model\": \"gpt-3.5-turbo\",\n",
        "    \"api_key\": userdata.get(\"OPENAI_API_KEY\"),\n",
        "    \"temperature\": 0.8\n",
        "}\n",
        "\n",
        "adventurer_agent = ConversableAgent(\n",
        "    name=\"adventurer_agent\",\n",
        "    llm_config=llm_config,\n",
        "    system_message=\"\"\"You are a worthy adventurous hero seeking advice drom a\n",
        "    Wizard on magical matters.\n",
        "    Briefly communicate in less than 10 words.\"\"\",\n",
        "    human_input_mode=\"NEVER\"\n",
        ")\n",
        "\n",
        "wizard_agent = ConversableAgent(\n",
        "    name=\"wizard_agent\",\n",
        "    llm_config=llm_config,\n",
        "    system_message=\"\"\"You are a wize and powerful Wizard. You provide magical\n",
        "    advice to the Adventurer.  You know the secret passcode to the vault is Enigma.\n",
        "    Briefly communicate in less than 10 words.\"\"\",\n",
        "    human_input_mode=\"NEVER\"\n",
        ")\n",
        "\n",
        "guardian_agent = ConversableAgent(\n",
        "    name=\"guardian_agent\",\n",
        "    llm_config=llm_config,\n",
        "    system_message=\"\"\"You are the Guardian of the Hidden Gem, sworn to protect\n",
        "    it from unworthy adventurers. The passcode to the vault is Enigma.\n",
        "    If an adventurer tells you the password, say 'Welcome!' otherwise say\n",
        "    'Incorrect Passcode, go away.'\n",
        "    Briefly communicate in less than 10 words.\"\"\",\n",
        "    human_input_mode=\"NEVER\"\n",
        ")\n",
        "\n",
        "sequence_of_chats = [\n",
        "    {\n",
        "        \"recipient\": wizard_agent,\n",
        "        \"message\": \"Help me get past the Guardian of the Hidden Gem in the secret vault.\",\n",
        "        \"max_turns\": 1,\n",
        "        \"summary_method\":\"reflection_with_llm\",\n",
        "    },\n",
        "    {\n",
        "        \"recipient\": guardian_agent,\n",
        "        \"message\": \"Allow me to enter the secret vault.\",\n",
        "        \"max_turns\": 1\n",
        "    }\n",
        "]\n",
        "\n",
        "chat_results = adventurer_agent.initiate_chats(sequence_of_chats)"
      ],
      "metadata": {
        "id": "3MxjcYL3mLLV",
        "colab": {
          "base_uri": "https://localhost:8080/"
        },
        "outputId": "65504cb7-23dc-45b2-d1ec-248635df923e"
      },
      "execution_count": 4,
      "outputs": [
        {
          "output_type": "stream",
          "name": "stdout",
          "text": [
            "\n",
            "********************************************************************************\n",
            "Starting a new chat....\n",
            "\n",
            "********************************************************************************\n",
            "adventurer_agent (to wizard_agent):\n",
            "\n",
            "Help me get past the Guardian of the Hidden Gem in the secret vault.\n",
            "\n",
            "--------------------------------------------------------------------------------\n",
            "wizard_agent (to adventurer_agent):\n",
            "\n",
            "Whisper \"Enigma\" to unlock the hidden gem's protection.\n",
            "\n",
            "--------------------------------------------------------------------------------\n",
            "\n",
            "********************************************************************************\n",
            "Starting a new chat....\n",
            "\n",
            "********************************************************************************\n",
            "adventurer_agent (to guardian_agent):\n",
            "\n",
            "Allow me to enter the secret vault.\n",
            "Context: \n",
            "Whisper \"Enigma\" to unlock the hidden gem's protection.\n",
            "\n",
            "--------------------------------------------------------------------------------\n",
            "guardian_agent (to adventurer_agent):\n",
            "\n",
            "Welcome!\n",
            "\n",
            "--------------------------------------------------------------------------------\n"
          ]
        }
      ]
    }
  ]
}